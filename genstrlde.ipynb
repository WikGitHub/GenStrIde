{
  "nbformat": 4,
  "nbformat_minor": 0,
  "metadata": {
    "colab": {
      "provenance": [],
      "collapsed_sections": [],
      "authorship_tag": "ABX9TyOG32dasMRq/SNDLw+lRIvm",
      "include_colab_link": true
    },
    "kernelspec": {
      "name": "python3",
      "display_name": "Python 3"
    },
    "language_info": {
      "name": "python"
    }
  },
  "cells": [
    {
      "cell_type": "markdown",
      "metadata": {
        "id": "view-in-github",
        "colab_type": "text"
      },
      "source": [
        "<a href=\"https://colab.research.google.com/github/WikGitHub/GenStrIde/blob/master/genstrlde.ipynb\" target=\"_parent\"><img src=\"https://colab.research.google.com/assets/colab-badge.svg\" alt=\"Open In Colab\"/></a>"
      ]
    },
    {
      "cell_type": "code",
      "execution_count": 1,
      "metadata": {
        "id": "6e895ck1hzYW",
        "colab": {
          "base_uri": "https://localhost:8080/"
        },
        "outputId": "8cebd403-c8a4-41cf-bd30-4b105e0d469e"
      },
      "outputs": [
        {
          "output_type": "stream",
          "name": "stdout",
          "text": [
            "Archive:  /content/GenStrIde-master.zip\n",
            "replace __MACOSX/._GenStrIde-master? [y]es, [n]o, [A]ll, [N]one, [r]ename: A\n",
            "  inflating: __MACOSX/._GenStrIde-master  \n",
            "  inflating: GenStrIde-master/.DS_Store  \n",
            "  inflating: __MACOSX/GenStrIde-master/._.DS_Store  \n",
            "  inflating: GenStrIde-master/LICENSE  \n",
            "  inflating: __MACOSX/GenStrIde-master/._LICENSE  \n",
            "  inflating: __MACOSX/GenStrIde-master/._mda_custom  \n",
            "  inflating: __MACOSX/GenStrIde-master/._datasets  \n",
            "  inflating: __MACOSX/GenStrIde-master/._utils  \n",
            "  inflating: __MACOSX/GenStrIde-master/._models  \n",
            "  inflating: GenStrIde-master/README  \n",
            "  inflating: __MACOSX/GenStrIde-master/._README  \n",
            "  inflating: __MACOSX/GenStrIde-master/._scripts  \n",
            "  inflating: __MACOSX/GenStrIde-master/mda_custom/._nsgrid  \n",
            "  inflating: GenStrIde-master/datasets/lj-r2.0_scaled_shuffled_equal_samples.npy  \n",
            "  inflating: __MACOSX/GenStrIde-master/datasets/._lj-r2.0_scaled_shuffled_equal_samples.npy  \n",
            "  inflating: GenStrIde-master/datasets/lj-seed.gro  \n",
            "  inflating: __MACOSX/GenStrIde-master/datasets/._lj-seed.gro  \n",
            "  inflating: GenStrIde-master/datasets/lj-seed.xtc  \n",
            "  inflating: __MACOSX/GenStrIde-master/datasets/._lj-seed.xtc  \n",
            "  inflating: GenStrIde-master/datasets/lj-r2.0_scaled_shuffled_equal_labels.npy  \n",
            "  inflating: __MACOSX/GenStrIde-master/datasets/._lj-r2.0_scaled_shuffled_equal_labels.npy  \n",
            "  inflating: GenStrIde-master/utils/DataContainer.py  \n",
            "  inflating: __MACOSX/GenStrIde-master/utils/._DataContainer.py  \n",
            "  inflating: GenStrIde-master/utils/tf_util.py  \n",
            "  inflating: __MACOSX/GenStrIde-master/utils/._tf_util.py  \n",
            "  inflating: GenStrIde-master/models/pointnet.py  \n",
            "  inflating: __MACOSX/GenStrIde-master/models/._pointnet.py  \n",
            "  inflating: GenStrIde-master/scripts/mda_cluster.py  \n",
            "  inflating: __MACOSX/GenStrIde-master/scripts/._mda_cluster.py  \n",
            "  inflating: GenStrIde-master/scripts/train.py  \n",
            "  inflating: __MACOSX/GenStrIde-master/scripts/._train.py  \n",
            "  inflating: GenStrIde-master/scripts/prepare_train.py  \n",
            "  inflating: __MACOSX/GenStrIde-master/scripts/._prepare_train.py  \n",
            "  inflating: GenStrIde-master/mda_custom/nsgrid/nsgrid_rsd.pyx  \n",
            "  inflating: __MACOSX/GenStrIde-master/mda_custom/nsgrid/._nsgrid_rsd.pyx  \n",
            "  inflating: GenStrIde-master/mda_custom/nsgrid/setup.py  \n",
            "  inflating: __MACOSX/GenStrIde-master/mda_custom/nsgrid/._setup.py  \n"
          ]
        }
      ],
      "source": [
        "!unzip /content/GenStrIde-master.zip"
      ]
    },
    {
      "cell_type": "code",
      "source": [
        "!pip install --user MDAnalysis[analysis] MDAnalysisTests\n"
      ],
      "metadata": {
        "colab": {
          "base_uri": "https://localhost:8080/"
        },
        "id": "SXAwRsAZBeCJ",
        "outputId": "cd582c5f-27f2-40b7-dbdb-b59efa532b34"
      },
      "execution_count": 2,
      "outputs": [
        {
          "output_type": "stream",
          "name": "stdout",
          "text": [
            "Looking in indexes: https://pypi.org/simple, https://us-python.pkg.dev/colab-wheels/public/simple/\n",
            "Requirement already satisfied: MDAnalysis[analysis] in /root/.local/lib/python3.7/site-packages (2.1.0)\n",
            "Requirement already satisfied: MDAnalysisTests in /root/.local/lib/python3.7/site-packages (2.1.0)\n",
            "Requirement already satisfied: hypothesis in /root/.local/lib/python3.7/site-packages (from MDAnalysisTests) (6.54.4)\n",
            "Requirement already satisfied: pytest>=3.3.0 in /usr/local/lib/python3.7/dist-packages (from MDAnalysisTests) (3.6.4)\n",
            "Requirement already satisfied: networkx>=1.0 in /usr/local/lib/python3.7/dist-packages (from MDAnalysis[analysis]) (2.6.3)\n",
            "Requirement already satisfied: matplotlib>=1.5.1 in /usr/local/lib/python3.7/dist-packages (from MDAnalysis[analysis]) (3.2.2)\n",
            "Requirement already satisfied: threadpoolctl in /usr/local/lib/python3.7/dist-packages (from MDAnalysis[analysis]) (3.1.0)\n",
            "Requirement already satisfied: scipy>=1.0.0 in /usr/local/lib/python3.7/dist-packages (from MDAnalysis[analysis]) (1.7.3)\n",
            "Requirement already satisfied: joblib>=0.12 in /usr/local/lib/python3.7/dist-packages (from MDAnalysis[analysis]) (1.1.0)\n",
            "Requirement already satisfied: GridDataFormats>=0.4.0 in /root/.local/lib/python3.7/site-packages (from MDAnalysis[analysis]) (0.7.0)\n",
            "Requirement already satisfied: mmtf-python>=1.0.0 in /root/.local/lib/python3.7/site-packages (from MDAnalysis[analysis]) (1.1.3)\n",
            "Requirement already satisfied: tqdm>=4.43.0 in /usr/local/lib/python3.7/dist-packages (from MDAnalysis[analysis]) (4.64.0)\n",
            "Requirement already satisfied: packaging in /usr/local/lib/python3.7/dist-packages (from MDAnalysis[analysis]) (21.3)\n",
            "Requirement already satisfied: gsd>=1.4.0 in /root/.local/lib/python3.7/site-packages (from MDAnalysis[analysis]) (2.6.0)\n",
            "Requirement already satisfied: biopython>=1.71 in /root/.local/lib/python3.7/site-packages (from MDAnalysis[analysis]) (1.79)\n",
            "Requirement already satisfied: numpy>=1.18.0 in /usr/local/lib/python3.7/dist-packages (from MDAnalysis[analysis]) (1.21.6)\n",
            "Requirement already satisfied: mrcfile in /root/.local/lib/python3.7/site-packages (from GridDataFormats>=0.4.0->MDAnalysis[analysis]) (1.4.2)\n",
            "Requirement already satisfied: six in /usr/local/lib/python3.7/dist-packages (from GridDataFormats>=0.4.0->MDAnalysis[analysis]) (1.15.0)\n",
            "Requirement already satisfied: pyparsing!=2.0.4,!=2.1.2,!=2.1.6,>=2.0.1 in /usr/local/lib/python3.7/dist-packages (from matplotlib>=1.5.1->MDAnalysis[analysis]) (3.0.9)\n",
            "Requirement already satisfied: cycler>=0.10 in /usr/local/lib/python3.7/dist-packages (from matplotlib>=1.5.1->MDAnalysis[analysis]) (0.11.0)\n",
            "Requirement already satisfied: kiwisolver>=1.0.1 in /usr/local/lib/python3.7/dist-packages (from matplotlib>=1.5.1->MDAnalysis[analysis]) (1.4.4)\n",
            "Requirement already satisfied: python-dateutil>=2.1 in /usr/local/lib/python3.7/dist-packages (from matplotlib>=1.5.1->MDAnalysis[analysis]) (2.8.2)\n",
            "Requirement already satisfied: typing-extensions in /usr/local/lib/python3.7/dist-packages (from kiwisolver>=1.0.1->matplotlib>=1.5.1->MDAnalysis[analysis]) (4.1.1)\n",
            "Requirement already satisfied: msgpack>=1.0.0 in /usr/local/lib/python3.7/dist-packages (from mmtf-python>=1.0.0->MDAnalysis[analysis]) (1.0.4)\n",
            "Requirement already satisfied: atomicwrites>=1.0 in /usr/local/lib/python3.7/dist-packages (from pytest>=3.3.0->MDAnalysisTests) (1.4.1)\n",
            "Requirement already satisfied: more-itertools>=4.0.0 in /usr/local/lib/python3.7/dist-packages (from pytest>=3.3.0->MDAnalysisTests) (8.14.0)\n",
            "Requirement already satisfied: attrs>=17.4.0 in /usr/local/lib/python3.7/dist-packages (from pytest>=3.3.0->MDAnalysisTests) (22.1.0)\n",
            "Requirement already satisfied: pluggy<0.8,>=0.5 in /usr/local/lib/python3.7/dist-packages (from pytest>=3.3.0->MDAnalysisTests) (0.7.1)\n",
            "Requirement already satisfied: py>=1.5.0 in /usr/local/lib/python3.7/dist-packages (from pytest>=3.3.0->MDAnalysisTests) (1.11.0)\n",
            "Requirement already satisfied: setuptools in /usr/local/lib/python3.7/dist-packages (from pytest>=3.3.0->MDAnalysisTests) (57.4.0)\n",
            "Requirement already satisfied: exceptiongroup>=1.0.0rc8 in /root/.local/lib/python3.7/site-packages (from hypothesis->MDAnalysisTests) (1.0.0rc9)\n",
            "Requirement already satisfied: sortedcontainers<3.0.0,>=2.1.0 in /usr/local/lib/python3.7/dist-packages (from hypothesis->MDAnalysisTests) (2.4.0)\n",
            "Requirement already satisfied: sklearn in /root/.local/lib/python3.7/site-packages (from MDAnalysis[analysis]) (0.0)\n",
            "Requirement already satisfied: tidynamics>=1.0.0 in /root/.local/lib/python3.7/site-packages (from MDAnalysis[analysis]) (1.0.0)\n",
            "Requirement already satisfied: seaborn in /usr/local/lib/python3.7/dist-packages (from MDAnalysis[analysis]) (0.11.2)\n",
            "Requirement already satisfied: pandas>=0.23 in /usr/local/lib/python3.7/dist-packages (from seaborn->MDAnalysis[analysis]) (1.3.5)\n",
            "Requirement already satisfied: pytz>=2017.3 in /usr/local/lib/python3.7/dist-packages (from pandas>=0.23->seaborn->MDAnalysis[analysis]) (2022.2.1)\n",
            "Requirement already satisfied: scikit-learn in /usr/local/lib/python3.7/dist-packages (from sklearn->MDAnalysis[analysis]) (1.0.2)\n"
          ]
        }
      ]
    },
    {
      "cell_type": "code",
      "source": [
        "!pip install grid\n",
        "\n"
      ],
      "metadata": {
        "colab": {
          "base_uri": "https://localhost:8080/",
          "height": 250
        },
        "id": "AJh_OeU1CE2_",
        "outputId": "85382819-d125-497c-c967-050cb49bb8ac"
      },
      "execution_count": 3,
      "outputs": [
        {
          "output_type": "stream",
          "name": "stdout",
          "text": [
            "Looking in indexes: https://pypi.org/simple, https://us-python.pkg.dev/colab-wheels/public/simple/\n",
            "Requirement already satisfied: grid in /usr/local/lib/python3.7/dist-packages (0.7.1)\n",
            "Collecting argparse\n",
            "  Using cached argparse-1.4.0-py2.py3-none-any.whl (23 kB)\n",
            "Requirement already satisfied: numpy in /usr/local/lib/python3.7/dist-packages (from grid) (1.21.6)\n",
            "Installing collected packages: argparse\n",
            "Successfully installed argparse-1.4.0\n"
          ]
        },
        {
          "output_type": "display_data",
          "data": {
            "application/vnd.colab-display-data+json": {
              "pip_warning": {
                "packages": [
                  "argparse"
                ]
              }
            }
          },
          "metadata": {}
        }
      ]
    },
    {
      "cell_type": "code",
      "source": [
        "!python /content/GenStrIde-master/scripts/prepare_train.py"
      ],
      "metadata": {
        "colab": {
          "base_uri": "https://localhost:8080/"
        },
        "id": "IQ7JMvKgBHhB",
        "outputId": "adc3b185-fcd9-46ab-c32f-4eb9cfd49717"
      },
      "execution_count": 4,
      "outputs": [
        {
          "output_type": "stream",
          "name": "stdout",
          "text": [
            "Traceback (most recent call last):\n",
            "  File \"/content/GenStrIde-master/scripts/prepare_train.py\", line 17, in <module>\n",
            "    import nsgrid.nsgrid_rsd as nsgrid\n",
            "ModuleNotFoundError: No module named 'nsgrid'\n"
          ]
        }
      ]
    },
    {
      "cell_type": "code",
      "source": [
        "import tensorflow.compat.v1 as tf\n",
        "tf.compat.v1.disable_eager_execution()"
      ],
      "metadata": {
        "id": "CCb3Kc-yg4_n"
      },
      "execution_count": 21,
      "outputs": []
    },
    {
      "cell_type": "code",
      "source": [
        "!python /content/GenStrIde-master/scripts/train.py --labels /content/lj-r2.0_scaled_shuffled_equal_labels.npy --dataset /content/lj-r2.0_scaled_shuffled_equal_samples.npy --weights /content/GenStrIde-master/weights"
      ],
      "metadata": {
        "id": "w0jeKq1-yzp5",
        "colab": {
          "base_uri": "https://localhost:8080/"
        },
        "outputId": "a727e0bb-cf8b-40c6-e402-8182fd1748f0"
      },
      "execution_count": null,
      "outputs": [
        {
          "output_type": "stream",
          "name": "stdout",
          "text": [
            "2022-09-01 13:51:54.620125: W tensorflow/stream_executor/platform/default/dso_loader.cc:55] Could not load dynamic library 'libnvinfer.so.6'; dlerror: libnvinfer.so.6: cannot open shared object file: No such file or directory; LD_LIBRARY_PATH: /usr/local/nvidia/lib:/usr/local/nvidia/lib64\n",
            "2022-09-01 13:51:54.620222: W tensorflow/stream_executor/platform/default/dso_loader.cc:55] Could not load dynamic library 'libnvinfer_plugin.so.6'; dlerror: libnvinfer_plugin.so.6: cannot open shared object file: No such file or directory; LD_LIBRARY_PATH: /usr/local/nvidia/lib:/usr/local/nvidia/lib64\n",
            "2022-09-01 13:51:54.620243: W tensorflow/compiler/tf2tensorrt/utils/py_utils.cc:30] Cannot dlopen some TensorRT libraries. If you would like to use Nvidia GPU with TensorRT, please make sure the missing libraries mentioned above are installed properly.\n",
            "WARNING:tensorflow:From /usr/local/lib/python3.7/dist-packages/tensorflow_core/python/compat/v2_compat.py:88: disable_resource_variables (from tensorflow.python.ops.variable_scope) is deprecated and will be removed in a future version.\n",
            "Instructions for updating:\n",
            "non-resource variables are not supported in the long term\n",
            "loading numpy data...\n",
            "converting to DataContainer format...\n",
            "train shape: (432000, 43, 3)\n",
            "label shape: (432000, 4)\n",
            "test shape: (108000, 43, 3)\n",
            "label shape: (108000, 4)\n",
            "********************************** Tensor(\"Placeholder:0\", shape=(?, 43, 3), dtype=float32)\n",
            "<bound method Tensor.get_shape of <tf.Tensor 'Placeholder:0' shape=(?, 43, 3) dtype=float32>>\n",
            "WARNING:tensorflow:From /content/GenStrIde-master/scripts/../models/pointnet.py:71: flatten (from tensorflow.python.layers.core) is deprecated and will be removed in a future version.\n",
            "Instructions for updating:\n",
            "Use keras.layers.Flatten instead.\n",
            "WARNING:tensorflow:From /usr/local/lib/python3.7/dist-packages/tensorflow_core/python/layers/core.py:332: Layer.apply (from tensorflow.python.keras.engine.base_layer) is deprecated and will be removed in a future version.\n",
            "Instructions for updating:\n",
            "Please use `layer.__call__` method instead.\n",
            "WARNING:tensorflow:From /content/GenStrIde-master/scripts/../utils/tf_util.py:565: calling dropout (from tensorflow.python.ops.nn_ops) with keep_prob is deprecated and will be removed in a future version.\n",
            "Instructions for updating:\n",
            "Please use `rate` instead of `keep_prob`. Rate should be set to `rate = 1 - keep_prob`.\n"
          ]
        }
      ]
    }
  ]
}